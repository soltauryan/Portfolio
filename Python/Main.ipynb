{
 "cells": [
  {
   "cell_type": "markdown",
   "metadata": {},
   "source": [
    "### Palindrome function question"
   ]
  },
  {
   "cell_type": "code",
   "execution_count": 53,
   "metadata": {},
   "outputs": [],
   "source": [
    "import numpy as np\n",
    "import pandas as pd"
   ]
  },
  {
   "cell_type": "code",
   "execution_count": 62,
   "metadata": {},
   "outputs": [],
   "source": [
    "def palindromeCheck(inputString: str) -> str:\n",
    "    inputString = inputString.lower()\n",
    "    inputList = list(inputString.replace(\" \",\"\"))\n",
    "    reverseInputList = inputList[::-1]\n",
    "    print(inputList)\n",
    "    print(reverseInputList)\n",
    "    if inputList == reverseInputList:\n",
    "        return \"It's a palindrome\"\n",
    "    else:\n",
    "        return \"It's not a palindrome\"\n",
    "    \n",
    "def anagramCheck(firstString: str, secondString: str) -> str:\n",
    "    firstString = firstString.lower().replace(\" \",\"\")\n",
    "    secondString = secondString.lower().replace(\" \",\"\")\n",
    "    firstList = list(firstString)\n",
    "    firstList.sort()\n",
    "    secondList = list(secondString)\n",
    "    secondList.sort()\n",
    "    if len(firstList) != len(secondList):\n",
    "        return \"The input strings are not anagrams because they do not share the same # of characters\"\n",
    "    for count, letter in enumerate(firstList):\n",
    "        if firstList[count] == secondList[count]:\n",
    "            pass\n",
    "        else:\n",
    "            return \"The two strings are not anagrams\"\n",
    "    return \"The two strings are anagrams\"\n",
    "\n",
    "def digitOfLife(birthday: str) -> int: ### Input this birthday as YYYYMMDD\n",
    "    # Light error handling on the input string\n",
    "    if type(birthday) != str:\n",
    "        return \"Please use a string input with the YYYYMMDD format\"\n",
    "    if birthday.isalnum() and len(birthday) == 8:\n",
    "        pass\n",
    "    else:\n",
    "        return \"Please use a string input with the YYYYMMDD format\"\n",
    "    bDayList = list(birthday)\n",
    "    bDayArray = np.array(bDayList)\n",
    "    bDayArray = bDayArray.astype(np.intc)\n",
    "    print(bDayList)\n",
    "    return bDayArray.sum()\n"
   ]
  },
  {
   "cell_type": "code",
   "execution_count": 16,
   "metadata": {},
   "outputs": [
    {
     "name": "stdout",
     "output_type": "stream",
     "text": [
      "['t', 'e', 'n', 'a', 'n', 'i', 'm', 'a', 'l', 's', 'i', 's', 'l', 'a', 'm', 'i', 'n', 'a', 'n', 'e', 't']\n",
      "['t', 'e', 'n', 'a', 'n', 'i', 'm', 'a', 'l', 's', 'i', 's', 'l', 'a', 'm', 'i', 'n', 'a', 'n', 'e', 't']\n",
      "It's a palindrome\n"
     ]
    }
   ],
   "source": [
    "print(palindromeCheck(\"Ten animals I slam in a net\"))"
   ]
  },
  {
   "cell_type": "code",
   "execution_count": 45,
   "metadata": {},
   "outputs": [
    {
     "name": "stdout",
     "output_type": "stream",
     "text": [
      "The two strings are anagrams\n",
      "The input strings are not anagrams because they do not share the same # of characters\n",
      "The two strings are not anagrams\n"
     ]
    }
   ],
   "source": [
    "print(anagramCheck(\"Listen\",\"Silent\"))\n",
    "print(anagramCheck(\"Listen\",\"Silentt\"))\n",
    "print(anagramCheck(\"modern\",\"NORMAN\"))"
   ]
  },
  {
   "cell_type": "markdown",
   "metadata": {},
   "source": []
  },
  {
   "cell_type": "code",
   "execution_count": 63,
   "metadata": {},
   "outputs": [
    {
     "name": "stdout",
     "output_type": "stream",
     "text": [
      "['1', '9', '9', '4', '1', '0', '1', '6']\n"
     ]
    },
    {
     "data": {
      "text/plain": [
       "31"
      ]
     },
     "execution_count": 63,
     "metadata": {},
     "output_type": "execute_result"
    }
   ],
   "source": [
    "digitOfLife(\"19941016\")"
   ]
  },
  {
   "cell_type": "code",
   "execution_count": null,
   "metadata": {},
   "outputs": [],
   "source": []
  }
 ],
 "metadata": {
  "kernelspec": {
   "display_name": "base",
   "language": "python",
   "name": "python3"
  },
  "language_info": {
   "codemirror_mode": {
    "name": "ipython",
    "version": 3
   },
   "file_extension": ".py",
   "mimetype": "text/x-python",
   "name": "python",
   "nbconvert_exporter": "python",
   "pygments_lexer": "ipython3",
   "version": "3.7.13"
  },
  "orig_nbformat": 4
 },
 "nbformat": 4,
 "nbformat_minor": 2
}
