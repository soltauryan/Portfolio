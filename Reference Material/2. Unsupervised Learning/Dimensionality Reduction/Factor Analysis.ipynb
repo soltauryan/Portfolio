{
 "cells": [
  {
   "cell_type": "code",
   "execution_count": 74,
   "metadata": {},
   "outputs": [],
   "source": [
    "import numpy as np\n",
    "import pandas as pd\n",
    "from factor_analyzer import FactorAnalyzer\n",
    "import matplotlib.pyplot as plt\n",
    "from factor_analyzer.factor_analyzer import calculate_kmo"
   ]
  },
  {
   "cell_type": "markdown",
   "metadata": {},
   "source": [
    "# Data Import"
   ]
  },
  {
   "cell_type": "code",
   "execution_count": 75,
   "metadata": {},
   "outputs": [
    {
     "data": {
      "text/html": [
       "<div>\n",
       "<style scoped>\n",
       "    .dataframe tbody tr th:only-of-type {\n",
       "        vertical-align: middle;\n",
       "    }\n",
       "\n",
       "    .dataframe tbody tr th {\n",
       "        vertical-align: top;\n",
       "    }\n",
       "\n",
       "    .dataframe thead th {\n",
       "        text-align: right;\n",
       "    }\n",
       "</style>\n",
       "<table border=\"1\" class=\"dataframe\">\n",
       "  <thead>\n",
       "    <tr style=\"text-align: right;\">\n",
       "      <th></th>\n",
       "      <th>Unnamed: 0</th>\n",
       "      <th>Oil</th>\n",
       "      <th>Density</th>\n",
       "      <th>Crispy</th>\n",
       "      <th>Fracture</th>\n",
       "      <th>Hardness</th>\n",
       "    </tr>\n",
       "  </thead>\n",
       "  <tbody>\n",
       "    <tr>\n",
       "      <th>0</th>\n",
       "      <td>B110</td>\n",
       "      <td>16.5</td>\n",
       "      <td>2955</td>\n",
       "      <td>10</td>\n",
       "      <td>23</td>\n",
       "      <td>97</td>\n",
       "    </tr>\n",
       "    <tr>\n",
       "      <th>1</th>\n",
       "      <td>B136</td>\n",
       "      <td>17.7</td>\n",
       "      <td>2660</td>\n",
       "      <td>14</td>\n",
       "      <td>9</td>\n",
       "      <td>139</td>\n",
       "    </tr>\n",
       "    <tr>\n",
       "      <th>2</th>\n",
       "      <td>B171</td>\n",
       "      <td>16.2</td>\n",
       "      <td>2870</td>\n",
       "      <td>12</td>\n",
       "      <td>17</td>\n",
       "      <td>143</td>\n",
       "    </tr>\n",
       "    <tr>\n",
       "      <th>3</th>\n",
       "      <td>B192</td>\n",
       "      <td>16.7</td>\n",
       "      <td>2920</td>\n",
       "      <td>10</td>\n",
       "      <td>31</td>\n",
       "      <td>95</td>\n",
       "    </tr>\n",
       "    <tr>\n",
       "      <th>4</th>\n",
       "      <td>B225</td>\n",
       "      <td>16.3</td>\n",
       "      <td>2975</td>\n",
       "      <td>11</td>\n",
       "      <td>26</td>\n",
       "      <td>143</td>\n",
       "    </tr>\n",
       "  </tbody>\n",
       "</table>\n",
       "</div>"
      ],
      "text/plain": [
       "  Unnamed: 0   Oil  Density  Crispy  Fracture  Hardness\n",
       "0       B110  16.5     2955      10        23        97\n",
       "1       B136  17.7     2660      14         9       139\n",
       "2       B171  16.2     2870      12        17       143\n",
       "3       B192  16.7     2920      10        31        95\n",
       "4       B225  16.3     2975      11        26       143"
      ]
     },
     "execution_count": 75,
     "metadata": {},
     "output_type": "execute_result"
    }
   ],
   "source": [
    "df_raw = pd.read_csv(\"food-texture.csv\")\n",
    "df_raw.head()"
   ]
  },
  {
   "cell_type": "code",
   "execution_count": 76,
   "metadata": {},
   "outputs": [
    {
     "data": {
      "text/plain": [
       "Index(['Unnamed: 0', 'Oil', 'Density', 'Crispy', 'Fracture', 'Hardness'], dtype='object')"
      ]
     },
     "execution_count": 76,
     "metadata": {},
     "output_type": "execute_result"
    }
   ],
   "source": [
    "df_raw.columns"
   ]
  },
  {
   "cell_type": "code",
   "execution_count": 77,
   "metadata": {},
   "outputs": [],
   "source": [
    "df = df_raw.copy()\n",
    "\n",
    "df.drop(['Unnamed: 0'], axis=1, inplace=True)"
   ]
  },
  {
   "cell_type": "code",
   "execution_count": 78,
   "metadata": {},
   "outputs": [
    {
     "data": {
      "text/plain": [
       "(50, 5)"
      ]
     },
     "execution_count": 78,
     "metadata": {},
     "output_type": "execute_result"
    }
   ],
   "source": [
    "df.shape"
   ]
  },
  {
   "cell_type": "code",
   "execution_count": 79,
   "metadata": {},
   "outputs": [
    {
     "data": {
      "text/html": [
       "<div>\n",
       "<style scoped>\n",
       "    .dataframe tbody tr th:only-of-type {\n",
       "        vertical-align: middle;\n",
       "    }\n",
       "\n",
       "    .dataframe tbody tr th {\n",
       "        vertical-align: top;\n",
       "    }\n",
       "\n",
       "    .dataframe thead th {\n",
       "        text-align: right;\n",
       "    }\n",
       "</style>\n",
       "<table border=\"1\" class=\"dataframe\">\n",
       "  <thead>\n",
       "    <tr style=\"text-align: right;\">\n",
       "      <th></th>\n",
       "      <th>Oil</th>\n",
       "      <th>Density</th>\n",
       "      <th>Crispy</th>\n",
       "      <th>Fracture</th>\n",
       "      <th>Hardness</th>\n",
       "    </tr>\n",
       "  </thead>\n",
       "  <tbody>\n",
       "    <tr>\n",
       "      <th>count</th>\n",
       "      <td>50.000000</td>\n",
       "      <td>50.00000</td>\n",
       "      <td>50.000000</td>\n",
       "      <td>50.000000</td>\n",
       "      <td>50.000000</td>\n",
       "    </tr>\n",
       "    <tr>\n",
       "      <th>mean</th>\n",
       "      <td>17.202000</td>\n",
       "      <td>2857.60000</td>\n",
       "      <td>11.520000</td>\n",
       "      <td>20.860000</td>\n",
       "      <td>128.180000</td>\n",
       "    </tr>\n",
       "    <tr>\n",
       "      <th>std</th>\n",
       "      <td>1.592007</td>\n",
       "      <td>124.49998</td>\n",
       "      <td>1.775571</td>\n",
       "      <td>5.466073</td>\n",
       "      <td>31.127578</td>\n",
       "    </tr>\n",
       "    <tr>\n",
       "      <th>min</th>\n",
       "      <td>13.700000</td>\n",
       "      <td>2570.00000</td>\n",
       "      <td>7.000000</td>\n",
       "      <td>9.000000</td>\n",
       "      <td>63.000000</td>\n",
       "    </tr>\n",
       "    <tr>\n",
       "      <th>25%</th>\n",
       "      <td>16.300000</td>\n",
       "      <td>2772.50000</td>\n",
       "      <td>10.000000</td>\n",
       "      <td>17.000000</td>\n",
       "      <td>107.250000</td>\n",
       "    </tr>\n",
       "    <tr>\n",
       "      <th>50%</th>\n",
       "      <td>16.900000</td>\n",
       "      <td>2867.50000</td>\n",
       "      <td>12.000000</td>\n",
       "      <td>21.000000</td>\n",
       "      <td>126.000000</td>\n",
       "    </tr>\n",
       "    <tr>\n",
       "      <th>75%</th>\n",
       "      <td>18.100000</td>\n",
       "      <td>2945.00000</td>\n",
       "      <td>13.000000</td>\n",
       "      <td>25.000000</td>\n",
       "      <td>143.750000</td>\n",
       "    </tr>\n",
       "    <tr>\n",
       "      <th>max</th>\n",
       "      <td>21.200000</td>\n",
       "      <td>3125.00000</td>\n",
       "      <td>15.000000</td>\n",
       "      <td>33.000000</td>\n",
       "      <td>192.000000</td>\n",
       "    </tr>\n",
       "  </tbody>\n",
       "</table>\n",
       "</div>"
      ],
      "text/plain": [
       "             Oil     Density     Crispy   Fracture    Hardness\n",
       "count  50.000000    50.00000  50.000000  50.000000   50.000000\n",
       "mean   17.202000  2857.60000  11.520000  20.860000  128.180000\n",
       "std     1.592007   124.49998   1.775571   5.466073   31.127578\n",
       "min    13.700000  2570.00000   7.000000   9.000000   63.000000\n",
       "25%    16.300000  2772.50000  10.000000  17.000000  107.250000\n",
       "50%    16.900000  2867.50000  12.000000  21.000000  126.000000\n",
       "75%    18.100000  2945.00000  13.000000  25.000000  143.750000\n",
       "max    21.200000  3125.00000  15.000000  33.000000  192.000000"
      ]
     },
     "execution_count": 79,
     "metadata": {},
     "output_type": "execute_result"
    }
   ],
   "source": [
    "df.describe()"
   ]
  },
  {
   "cell_type": "markdown",
   "metadata": {},
   "source": [
    "# KMO\n",
    "\n",
    "A KMO of 0.71 suggests that the data has a high proportion of variance that might be common variance. For our purposes this means that the dataset is well suited to factor analysis so we may proceed."
   ]
  },
  {
   "cell_type": "code",
   "execution_count": 80,
   "metadata": {},
   "outputs": [],
   "source": [
    "kmo_all, kmo_model = calculate_kmo(df)"
   ]
  },
  {
   "cell_type": "code",
   "execution_count": 81,
   "metadata": {},
   "outputs": [
    {
     "data": {
      "text/plain": [
       "0.7088776872864254"
      ]
     },
     "execution_count": 81,
     "metadata": {},
     "output_type": "execute_result"
    }
   ],
   "source": [
    "kmo_model"
   ]
  },
  {
   "cell_type": "code",
   "execution_count": 82,
   "metadata": {},
   "outputs": [
    {
     "data": {
      "text/plain": [
       "array([0.81755169, 0.70612631, 0.67412963, 0.7879527 , 0.4284536 ])"
      ]
     },
     "execution_count": 82,
     "metadata": {},
     "output_type": "execute_result"
    }
   ],
   "source": [
    "kmo_all"
   ]
  },
  {
   "cell_type": "markdown",
   "metadata": {},
   "source": [
    "#"
   ]
  },
  {
   "cell_type": "markdown",
   "metadata": {},
   "source": [
    "# Varimax Model"
   ]
  },
  {
   "cell_type": "code",
   "execution_count": 83,
   "metadata": {},
   "outputs": [],
   "source": [
    "fa_v = FactorAnalyzer(6, rotation = \"varimax\", method = 'minres')\n",
    "fa_v.fit(df)\n",
    "loadings_fa_p = fa_v.loadings_"
   ]
  },
  {
   "cell_type": "code",
   "execution_count": 84,
   "metadata": {},
   "outputs": [],
   "source": [
    "eigen_values, vectors = fa_v.get_eigenvalues()"
   ]
  },
  {
   "cell_type": "code",
   "execution_count": 85,
   "metadata": {},
   "outputs": [
    {
     "data": {
      "text/plain": [
       "array([3.03121317, 1.29570576, 0.31004934, 0.24192008, 0.12111165])"
      ]
     },
     "execution_count": 85,
     "metadata": {},
     "output_type": "execute_result"
    }
   ],
   "source": [
    "eigen_values"
   ]
  },
  {
   "cell_type": "code",
   "execution_count": 86,
   "metadata": {},
   "outputs": [
    {
     "data": {
      "image/png": "[encoded data removed]",
      "text/plain": [
       "<Figure size 640x480 with 1 Axes>"
      ]
     },
     "metadata": {},
     "output_type": "display_data"
    }
   ],
   "source": [
    "# create scree plot\n",
    "plt.scatter(range(1, df.shape[1]+1), eigen_values)\n",
    "plt.plot(range(1, df.shape[1]+1), eigen_values)\n",
    "plt.title('Scree Plot')\n",
    "plt.xlabel('Factors')\n",
    "plt.ylabel('Eigenvalue')\n",
    "plt.grid()\n",
    "plt.show()"
   ]
  },
  {
   "cell_type": "code",
   "execution_count": 87,
   "metadata": {},
   "outputs": [
    {
     "name": "stdout",
     "output_type": "stream",
     "text": [
      "Factor Loadings \n",
      "          Factor 1  Factor 2  Factor 3  Factor 4  Factor 5\n",
      "Oil      -0.840279 -0.014530 -0.042655  0.114431       0.0\n",
      "Density   0.910076  0.018745  0.029136  0.141643       0.0\n",
      "Crispy   -0.732696  0.649682 -0.000591 -0.115068       0.0\n",
      "Fracture  0.632990 -0.584986  0.242168 -0.000188       0.0\n",
      "Hardness  0.102168  0.749100  0.000762  0.006301       0.0\n"
     ]
    }
   ],
   "source": [
    "# let's make sense of the array of loadings we just got back\n",
    "loadings = pd.DataFrame(fa_v.loadings_, columns=['Factor 1', 'Factor 2', 'Factor 3', 'Factor 4', 'Factor 5'], index= df.columns)\n",
    "print('Factor Loadings \\n%s' %loadings)"
   ]
  },
  {
   "cell_type": "markdown",
   "metadata": {},
   "source": [
    "### Explain Findings  \n",
    "**Eigenvalues:** The rule of thumb is we're looking for factors with eigenvalues of greater than 1, as this means they explain more variance than a single observed variable. With this in mind, Factors 1 and 2 are the most valuable, with Factor 3 being around 0.3 \n",
    "\n",
    "**Scree Plot:** The elbow plot has the \"rocks lie\" at the 3rd factor. Which doesn't make a lot of sense to me. My distaste for scree plots continues.\n",
    "\n",
    "**Factor Loadings:** Factor 1 seems to be focused on the Oil, Density, and Cripsy and Factor 2 is centered around Fracture, Hardness, and Crispy. The Factor 2 loadings make sense to me, with them all being around the strength/structure of the pastry. For Factor 1, I'm no pastry chef but the amount of Oil affecting the density of the pastry makes sense to me.\n",
    "\n",
    "**What I would change?:** I would reduce the number of factors to two, given the low value of factors 3 and beyond. "
   ]
  },
  {
   "cell_type": "markdown",
   "metadata": {},
   "source": [
    "# Additional Model"
   ]
  },
  {
   "cell_type": "code",
   "execution_count": 88,
   "metadata": {},
   "outputs": [],
   "source": [
    "fa_ml = FactorAnalyzer(2, rotation = \"varimax\", method = 'ml')\n",
    "fa_ml.fit(df)\n",
    "loadings_fa_ml = fa_ml.loadings_"
   ]
  },
  {
   "cell_type": "code",
   "execution_count": 89,
   "metadata": {},
   "outputs": [],
   "source": [
    "eigen_values, vectors = fa_ml.get_eigenvalues()"
   ]
  },
  {
   "cell_type": "code",
   "execution_count": 90,
   "metadata": {},
   "outputs": [
    {
     "data": {
      "text/plain": [
       "array([3.03121317, 1.29570576, 0.31004934, 0.24192008, 0.12111165])"
      ]
     },
     "execution_count": 90,
     "metadata": {},
     "output_type": "execute_result"
    }
   ],
   "source": [
    "eigen_values"
   ]
  },
  {
   "cell_type": "code",
   "execution_count": 91,
   "metadata": {},
   "outputs": [
    {
     "data": {
      "image/png": "[encoded data removed]",
      "text/plain": [
       "<Figure size 640x480 with 1 Axes>"
      ]
     },
     "metadata": {},
     "output_type": "display_data"
    }
   ],
   "source": [
    "# create scree plot\n",
    "plt.scatter(range(1, df.shape[1]+1), eigen_values)\n",
    "plt.plot(range(1, df.shape[1]+1), eigen_values)\n",
    "plt.title('Scree Plot')\n",
    "plt.xlabel('Factors')\n",
    "plt.ylabel('Eigenvalue')\n",
    "plt.grid()\n",
    "plt.show()"
   ]
  },
  {
   "cell_type": "code",
   "execution_count": 92,
   "metadata": {},
   "outputs": [
    {
     "name": "stdout",
     "output_type": "stream",
     "text": [
      "Factor Loadings \n",
      "          Factor 1  Factor 2\n",
      "Oil      -0.815961 -0.018638\n",
      "Density   0.918683  0.022287\n",
      "Crispy   -0.744566  0.635136\n",
      "Fracture  0.644878 -0.572808\n",
      "Hardness  0.099313  0.763669\n"
     ]
    }
   ],
   "source": [
    "# let's make sense of the array of loadings we just got back\n",
    "loadings = pd.DataFrame(fa_ml.loadings_, columns=['Factor 1', 'Factor 2'], index= df.columns)\n",
    "print('Factor Loadings \\n%s' %loadings)"
   ]
  },
  {
   "cell_type": "markdown",
   "metadata": {},
   "source": [
    "### Explain Findings\n",
    "**Explain Findings:**  \n",
    "The Eigenvalues and therefore the scree plot are the same as the previous model. This was confusing to me at first but it makes sense once you find out that those eigenvalues are associated with the original 5 variables from df. \n",
    "\n",
    "**How do they differ from the first model:**  \n",
    "The loadings differ from the previous model given the parameters entered into the factor analysis method. The resulting table is very similar to the Factor loadings in the first model which is not too suprising given the low eigenvalues once you went past the second factor in the scree plot."
   ]
  },
  {
   "cell_type": "markdown",
   "metadata": {},
   "source": [
    "# Explain Metrics  \n",
    "•\tChoose one of the two models and obtain your factor loadings, variances, communalities, and uniquenesses. Explain each of these metrics and why you chose to go forward with the model you did. "
   ]
  },
  {
   "cell_type": "markdown",
   "metadata": {},
   "source": [
    "### Loadings"
   ]
  },
  {
   "cell_type": "code",
   "execution_count": 93,
   "metadata": {},
   "outputs": [
    {
     "name": "stdout",
     "output_type": "stream",
     "text": [
      "Factor Loadings \n",
      "          Factor 1  Factor 2\n",
      "Oil      -0.815961 -0.018638\n",
      "Density   0.918683  0.022287\n",
      "Crispy   -0.744566  0.635136\n",
      "Fracture  0.644878 -0.572808\n",
      "Hardness  0.099313  0.763669\n"
     ]
    }
   ],
   "source": [
    "print('Factor Loadings \\n%s' %loadings)"
   ]
  },
  {
   "cell_type": "markdown",
   "metadata": {},
   "source": [
    "### Variances"
   ]
  },
  {
   "cell_type": "code",
   "execution_count": 94,
   "metadata": {},
   "outputs": [
    {
     "data": {
      "text/plain": [
       "(array([2.48987919, 1.31554176]),\n",
       " array([0.49797584, 0.26310835]),\n",
       " array([0.49797584, 0.76108419]))"
      ]
     },
     "execution_count": 94,
     "metadata": {},
     "output_type": "execute_result"
    }
   ],
   "source": [
    "fa_ml.get_factor_variance()"
   ]
  },
  {
   "cell_type": "code",
   "execution_count": 95,
   "metadata": {},
   "outputs": [
    {
     "name": "stdout",
     "output_type": "stream",
     "text": [
      "Factor Variance \n",
      "                  Factor 1  Factor 2\n",
      "Variance          2.489879  1.315542\n",
      "Proportional Var  0.497976  0.263108\n",
      "Cumulative Var    0.497976  0.761084\n"
     ]
    }
   ],
   "source": [
    "fa_ml_variance = pd.DataFrame(fa_ml.get_factor_variance(), columns=['Factor 1', 'Factor 2'],\n",
    "                           index= ['Variance', 'Proportional Var', 'Cumulative Var'])\n",
    "print('Factor Variance \\n%s' %fa_ml_variance)"
   ]
  },
  {
   "cell_type": "markdown",
   "metadata": {},
   "source": [
    "### Communalities"
   ]
  },
  {
   "cell_type": "code",
   "execution_count": 96,
   "metadata": {},
   "outputs": [
    {
     "data": {
      "text/plain": [
       "array([0.66613965, 0.84447445, 0.95777609, 0.74397672, 0.59305404])"
      ]
     },
     "execution_count": 96,
     "metadata": {},
     "output_type": "execute_result"
    }
   ],
   "source": [
    "fa_ml.get_communalities()"
   ]
  },
  {
   "cell_type": "code",
   "execution_count": 97,
   "metadata": {},
   "outputs": [
    {
     "name": "stdout",
     "output_type": "stream",
     "text": [
      "Factor Communalities \n",
      "          Communalities\n",
      "Oil            0.666140\n",
      "Density        0.844474\n",
      "Crispy         0.957776\n",
      "Fracture       0.743977\n",
      "Hardness       0.593054\n"
     ]
    }
   ],
   "source": [
    "fa_ml_communalities = pd.DataFrame(fa_ml.get_communalities(), index=df.columns, columns=['Communalities'])\n",
    "print('Factor Communalities \\n%s' %fa_ml_communalities)"
   ]
  },
  {
   "cell_type": "markdown",
   "metadata": {},
   "source": [
    "### Uniqueness"
   ]
  },
  {
   "cell_type": "code",
   "execution_count": 98,
   "metadata": {},
   "outputs": [
    {
     "data": {
      "text/plain": [
       "array([0.33386035, 0.15552555, 0.04222391, 0.25602328, 0.40694596])"
      ]
     },
     "execution_count": 98,
     "metadata": {},
     "output_type": "execute_result"
    }
   ],
   "source": [
    "fa_ml.get_uniquenesses()"
   ]
  },
  {
   "cell_type": "code",
   "execution_count": 99,
   "metadata": {},
   "outputs": [
    {
     "name": "stdout",
     "output_type": "stream",
     "text": [
      "Factor Uniquenesses \n",
      "          Uniquenesses\n",
      "Oil           0.333860\n",
      "Density       0.155526\n",
      "Crispy        0.042224\n",
      "Fracture      0.256023\n",
      "Hardness      0.406946\n"
     ]
    }
   ],
   "source": [
    "fa_ml_unique = pd.DataFrame(fa_ml.get_uniquenesses(), index=df.columns, columns=['Uniquenesses'])\n",
    "print('Factor Uniquenesses \\n%s' %fa_ml_unique)"
   ]
  },
  {
   "cell_type": "markdown",
   "metadata": {},
   "source": [
    "I choose the second model.\n",
    "\n",
    "**Factor Loadings:**  \n",
    "Factor 1 seems to be focused on the Oil, Density, and Cripsy and Factor 2 is centered around Fracture, Hardness, and Crispy. The Factor 2 loadings make sense to me, with them all being around the strength/structure of the pastry. For Factor 1, I'm no pastry chef but the amount of Oil affecting the density of the pastry makes sense to me.\n",
    "\n",
    "**Variances:**\n",
    "Both factors explain 76% of the of the variability in the dataset. Overall this table indicates that both factors explain a lot of the variance in the dataset and that the factor analysis is likely useable for further analysis.\n",
    "\n",
    "**Communalities:**  \n",
    "With the lowest communality being at 60%, each of our variables has a significant % of their variance explained by the factors. \n",
    "\n",
    "**Uniqueness:**  \n",
    "Crispyness shares a lot of its variance with the other variables, which makes sense for hardness and fracture. In a professional setting I would rerun this model without crispyness and check the result.\n",
    "\n",
    "**Why the second model?**  \n",
    "I prefer the cleaner 2 factor model than the original 6 factor model with 4 out of the 6 factors aren't very useful. 2 factors removes the noise associated with the 4 additional factors and makes the model more interpretable. "
   ]
  },
  {
   "cell_type": "markdown",
   "metadata": {},
   "source": [
    "# Overall Conclusions  \n",
    "•\tDiscuss your overall conclusions for the model. This includes the number of components you were able to form from your factors. Provide 5-7 sentences.  \n",
    "\n",
    "Overall I thought this was a fun exercise to implement factor analysis. Running both models helped me better understand the values used to interpret each model and are a small snippet of what using factor analysis in a professional setting would be like. Two factors from these models are useful and capture most of the variance/information contained in the original five variables. I'm considering implementing this approach with some of the clustering analysis that I've been working on at my job."
   ]
  },
  {
   "cell_type": "markdown",
   "metadata": {},
   "source": [
    "# Explaining Factor Analysis to my Grandma  \n",
    "\n"
   ]
  },
  {
   "cell_type": "markdown",
   "metadata": {},
   "source": [
    "Consider if we were to take a family survey of our preferences for Thanksgiving meals. Our family member's individual flavor preferences would be reflected in the results. Some prefer the savory foods, some prefer the sweet, and no one prefers dry turkey (deep-fried turkey is the way to go!). Factor Analysis would help us find these underlying trends and help us serve a Thanksgiving dinner that would make everyone happy!"
   ]
  }
 ],
 "metadata": {
  "kernelspec": {
   "display_name": "LearningEnv",
   "language": "python",
   "name": "python3"
  },
  "language_info": {
   "codemirror_mode": {
    "name": "ipython",
    "version": 3
   },
   "file_extension": ".py",
   "mimetype": "text/x-python",
   "name": "python",
   "nbconvert_exporter": "python",
   "pygments_lexer": "ipython3",
   "version": "3.11.5"
  }
 },
 "nbformat": 4,
 "nbformat_minor": 2
}
